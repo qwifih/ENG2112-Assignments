{
 "cells": [
  {
   "cell_type": "markdown",
   "id": "977ed8d9-0298-4915-b216-9b649a17eb8d",
   "metadata": {},
   "source": [
    "## Normalization Problem"
   ]
  },
  {
   "cell_type": "code",
   "execution_count": 7,
   "id": "2f307c71-d850-4f96-b9af-8146aed691ab",
   "metadata": {},
   "outputs": [],
   "source": [
    "import numpy as np"
   ]
  },
  {
   "cell_type": "code",
   "execution_count": 33,
   "id": "9bb46534-466a-49e2-94dd-ef86447d542c",
   "metadata": {},
   "outputs": [],
   "source": [
    "X = np.random.rand(5, 5) #Creates a random 5 by 5 array"
   ]
  },
  {
   "cell_type": "code",
   "execution_count": 11,
   "id": "2f066368-c4aa-4e4f-9c25-a36dde46adb7",
   "metadata": {},
   "outputs": [],
   "source": [
    "X_normalized = (X - X.mean()) / X.std() #Normalizes the values in the array using the mean and standard deviation"
   ]
  },
  {
   "cell_type": "code",
   "execution_count": 56,
   "id": "bcee1451-3e10-44dd-859f-e673e79fef96",
   "metadata": {},
   "outputs": [],
   "source": [
    "np.save('X_normalized.npy', X_normalized) #Saves as npy file"
   ]
  },
  {
   "cell_type": "code",
   "execution_count": 58,
   "id": "a219aed3-fcb3-42e3-83c6-32b0cfb03365",
   "metadata": {},
   "outputs": [
    {
     "name": "stdout",
     "output_type": "stream",
     "text": [
      "Normalized Array:\n",
      " [[ 0.52777604  0.16008399 -0.82195393  1.09880444 -0.49416078]\n",
      " [-0.90998888  0.28151159  0.76528427  1.41420341 -0.35672274]\n",
      " [-0.39654915  0.95922511 -1.25874997  0.52913751  0.41971547]\n",
      " [ 2.08496282 -0.48058225  0.98875543 -0.41498799 -1.35211186]\n",
      " [-0.76184377  1.73170513 -1.40287359 -0.985619   -1.32502128]]\n"
     ]
    }
   ],
   "source": [
    "print(\"Normalized Array:\\n\", X_normalized)"
   ]
  },
  {
   "cell_type": "markdown",
   "id": "dc475407-c47d-4b78-88bb-76b2ec1d68f9",
   "metadata": {},
   "source": [
    "## Divisible by 3 Problem"
   ]
  },
  {
   "cell_type": "code",
   "execution_count": 61,
   "id": "ca81d3e5-ee81-43c1-9797-4971b7639df9",
   "metadata": {},
   "outputs": [],
   "source": [
    "numbers = np.arange(1, 101) #Generates the first 100 positive integers"
   ]
  },
  {
   "cell_type": "code",
   "execution_count": 63,
   "id": "34fc6707-8228-4dc5-9bf9-b20e8bd8c817",
   "metadata": {},
   "outputs": [],
   "source": [
    "squares_array = numbers.reshape(10, 10)**2 #Reshapes this array into a 10 x 10 ndarray and computes the squares of these integers"
   ]
  },
  {
   "cell_type": "code",
   "execution_count": 65,
   "id": "723b313d-56e2-4974-b806-5e3c0626d555",
   "metadata": {},
   "outputs": [],
   "source": [
    "div_by_3 = squares_array[squares_array % 3 == 0] #Uses boolean indexing to select elements from squares_array that are divisible by 3."
   ]
  },
  {
   "cell_type": "code",
   "execution_count": 67,
   "id": "c3dabbe4-f40e-44f1-8abb-c6b31aba6b0b",
   "metadata": {},
   "outputs": [],
   "source": [
    "np.save('div_by_3', div_by_3) #Saves as npy file"
   ]
  },
  {
   "cell_type": "code",
   "execution_count": 69,
   "id": "9fcc82ae-21a5-4b74-aeb8-50fb3354cc08",
   "metadata": {},
   "outputs": [
    {
     "name": "stdout",
     "output_type": "stream",
     "text": [
      "Squares of the first 100 positive integers that are divisible by 3:\n",
      " [   9   36   81  144  225  324  441  576  729  900 1089 1296 1521 1764\n",
      " 2025 2304 2601 2916 3249 3600 3969 4356 4761 5184 5625 6084 6561 7056\n",
      " 7569 8100 8649 9216 9801]\n"
     ]
    }
   ],
   "source": [
    "print(\"Squares of the first 100 positive integers that are divisible by 3:\\n\", divisible_by_3) #Prints the squares of the first 100 positive integers that are divisible by 3"
   ]
  },
  {
   "cell_type": "code",
   "execution_count": null,
   "id": "12bd8bbb-4a1f-460f-abee-77495b7fe27b",
   "metadata": {},
   "outputs": [],
   "source": []
  }
 ],
 "metadata": {
  "kernelspec": {
   "display_name": "Python 3 (ipykernel)",
   "language": "python",
   "name": "python3"
  },
  "language_info": {
   "codemirror_mode": {
    "name": "ipython",
    "version": 3
   },
   "file_extension": ".py",
   "mimetype": "text/x-python",
   "name": "python",
   "nbconvert_exporter": "python",
   "pygments_lexer": "ipython3",
   "version": "3.12.4"
  }
 },
 "nbformat": 4,
 "nbformat_minor": 5
}
